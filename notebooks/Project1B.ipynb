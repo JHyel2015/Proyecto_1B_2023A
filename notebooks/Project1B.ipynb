{
 "cells": [
  {
   "attachments": {},
   "cell_type": "markdown",
   "metadata": {},
   "source": [
    "# Proyecto - Analítica Descriptiva\n",
    "\n",
    "## (1) Descripción del problema:\n",
    "Para poder desarrollar una aplicación o juego es necesario encontrar la categoría con mayor número de descargas para saber los intéreses de los usuarios.\n",
    "\n",
    "## (1) Objetivos:\n",
    "- Determinar las categorías más descargadas en la PlayStore de Google\n",
    "\n",
    "## (3) Datos:\n",
    "### a. Fuentes de datos:\n",
    "La principal fuente de datos es un dataset en formato csv\n",
    "\n",
    "### b. Tipos de datos:\n",
    "En el dataset se tiene datos de tipo:\n",
    "- String\n",
    "- Boolean\n",
    "- Integer\n",
    "- Otros\n",
    "\n",
    "### c. Procesamiento:\n",
    "Eliminación de datos faltantes o erroneos\n",
    "\n"
   ]
  },
  {
   "attachments": {},
   "cell_type": "markdown",
   "metadata": {},
   "source": [
    "### 1. Carga de datos"
   ]
  },
  {
   "cell_type": "code",
   "execution_count": 98,
   "metadata": {
    "vscode": {
     "languageId": "r"
    }
   },
   "outputs": [],
   "source": [
    "library(\"dplyr\")\n",
    "library(\"na.tools\")\n",
    "library(\"tidyimpute\")\n",
    "library(\"ggplot2\")"
   ]
  },
  {
   "cell_type": "code",
   "execution_count": 16,
   "metadata": {
    "vscode": {
     "languageId": "r"
    }
   },
   "outputs": [],
   "source": [
    "data <- read.csv('../data/Google-Playstore.csv')"
   ]
  },
  {
   "cell_type": "code",
   "execution_count": 23,
   "metadata": {
    "vscode": {
     "languageId": "r"
    }
   },
   "outputs": [],
   "source": [
    "df <- data.frame(data)"
   ]
  },
  {
   "cell_type": "code",
   "execution_count": 24,
   "metadata": {
    "vscode": {
     "languageId": "r"
    }
   },
   "outputs": [
    {
     "data": {
      "text/html": [
       "<table class=\"dataframe\">\n",
       "<caption>A data.frame: 10 × 24</caption>\n",
       "<thead>\n",
       "\t<tr><th></th><th scope=col>App.Name</th><th scope=col>App.Id</th><th scope=col>Category</th><th scope=col>Rating</th><th scope=col>Rating.Count</th><th scope=col>Installs</th><th scope=col>Minimum.Installs</th><th scope=col>Maximum.Installs</th><th scope=col>Free</th><th scope=col>Price</th><th scope=col>⋯</th><th scope=col>Developer.Website</th><th scope=col>Developer.Email</th><th scope=col>Released</th><th scope=col>Last.Updated</th><th scope=col>Content.Rating</th><th scope=col>Privacy.Policy</th><th scope=col>Ad.Supported</th><th scope=col>In.App.Purchases</th><th scope=col>Editors.Choice</th><th scope=col>Scraped.Time</th></tr>\n",
       "\t<tr><th></th><th scope=col>&lt;chr&gt;</th><th scope=col>&lt;chr&gt;</th><th scope=col>&lt;chr&gt;</th><th scope=col>&lt;dbl&gt;</th><th scope=col>&lt;int&gt;</th><th scope=col>&lt;chr&gt;</th><th scope=col>&lt;dbl&gt;</th><th scope=col>&lt;dbl&gt;</th><th scope=col>&lt;chr&gt;</th><th scope=col>&lt;dbl&gt;</th><th scope=col>⋯</th><th scope=col>&lt;chr&gt;</th><th scope=col>&lt;chr&gt;</th><th scope=col>&lt;chr&gt;</th><th scope=col>&lt;chr&gt;</th><th scope=col>&lt;chr&gt;</th><th scope=col>&lt;chr&gt;</th><th scope=col>&lt;chr&gt;</th><th scope=col>&lt;chr&gt;</th><th scope=col>&lt;chr&gt;</th><th scope=col>&lt;chr&gt;</th></tr>\n",
       "</thead>\n",
       "<tbody>\n",
       "\t<tr><th scope=row>1</th><td>Gakondo                                           </td><td>com.ishakwe.gakondo                          </td><td>Adventure       </td><td>0.0</td><td>  0</td><td>10+    </td><td>   10</td><td>   15</td><td>True</td><td>0</td><td>⋯</td><td>https://beniyizibyose.tk/#/        </td><td>jean21101999@gmail.com         </td><td>Feb 26, 2020</td><td>Feb 26, 2020</td><td>Everyone</td><td>https://beniyizibyose.tk/projects/                                                        </td><td>False</td><td>False</td><td>False</td><td>2021-06-15 20:19:35</td></tr>\n",
       "\t<tr><th scope=row>2</th><td>Ampere Battery Info                               </td><td>com.webserveis.batteryinfo                   </td><td>Tools           </td><td>4.4</td><td> 64</td><td>5,000+ </td><td> 5000</td><td> 7662</td><td>True</td><td>0</td><td>⋯</td><td>https://webserveis.netlify.app/    </td><td>webserveis@gmail.com           </td><td>May 21, 2020</td><td>May 06, 2021</td><td>Everyone</td><td>https://dev4phones.wordpress.com/licencia-de-uso/                                         </td><td>True </td><td>False</td><td>False</td><td>2021-06-15 20:19:35</td></tr>\n",
       "\t<tr><th scope=row>3</th><td>Vibook                                            </td><td>com.doantiepvien.crm                         </td><td>Productivity    </td><td>0.0</td><td>  0</td><td>50+    </td><td>   50</td><td>   58</td><td>True</td><td>0</td><td>⋯</td><td>                                   </td><td>vnacrewit@gmail.com            </td><td>Aug 9, 2019 </td><td>Aug 19, 2019</td><td>Everyone</td><td>https://www.vietnamairlines.com/vn/en/terms-and-conditions/privacy-policy                 </td><td>False</td><td>False</td><td>False</td><td>2021-06-15 20:19:35</td></tr>\n",
       "\t<tr><th scope=row>4</th><td>Smart City Trichy Public Service Vehicles 17UCS548</td><td>cst.stJoseph.ug17ucs548                      </td><td>Communication   </td><td>5.0</td><td>  5</td><td>10+    </td><td>   10</td><td>   19</td><td>True</td><td>0</td><td>⋯</td><td>http://www.climatesmarttech.com/   </td><td>climatesmarttech2@gmail.com    </td><td>Sep 10, 2018</td><td>Oct 13, 2018</td><td>Everyone</td><td>                                                                                          </td><td>True </td><td>False</td><td>False</td><td>2021-06-15 20:19:35</td></tr>\n",
       "\t<tr><th scope=row>5</th><td>GROW.me                                           </td><td>com.horodyski.grower                         </td><td>Tools           </td><td>0.0</td><td>  0</td><td>100+   </td><td>  100</td><td>  478</td><td>True</td><td>0</td><td>⋯</td><td>http://www.horodyski.com.pl        </td><td>rmilekhorodyski@gmail.com      </td><td>Feb 21, 2020</td><td>Nov 12, 2018</td><td>Everyone</td><td>http://www.horodyski.com.pl                                                               </td><td>False</td><td>False</td><td>False</td><td>2021-06-15 20:19:35</td></tr>\n",
       "\t<tr><th scope=row>6</th><td>IMOCCI                                            </td><td>com.imocci                                   </td><td>Social          </td><td>0.0</td><td>  0</td><td>50+    </td><td>   50</td><td>   89</td><td>True</td><td>0</td><td>⋯</td><td>http://www.imocci.com              </td><td>info@imocci.com                </td><td>Dec 24, 2018</td><td>Dec 20, 2019</td><td>Teen    </td><td>https://www.imocci.com/wp-content/uploads/2018/08/Datenschutzerklärung_IMOCCI_22072018.pdf</td><td>False</td><td>True </td><td>False</td><td>2021-06-15 20:19:35</td></tr>\n",
       "\t<tr><th scope=row>7</th><td><span style=white-space:pre-wrap>unlimited 4G data prank free app                  </span></td><td>getfreedata.superfatiza.unlimitedjiodataprank</td><td>Libraries &amp; Demo</td><td>4.5</td><td> 12</td><td>1,000+ </td><td> 1000</td><td> 2567</td><td>True</td><td>0</td><td>⋯</td><td><span style=white-space:pre-wrap>                                   </span></td><td>aitomgharfatimezzahra@gmail.com</td><td>Sep 23, 2019</td><td>Sep 27, 2019</td><td>Everyone</td><td><span style=white-space:pre-wrap>https://sites.google.com/view/unlimited4gdataprank                                        </span></td><td>True </td><td>False</td><td>False</td><td>2021-06-15 20:19:35</td></tr>\n",
       "\t<tr><th scope=row>8</th><td>The Everyday Calendar                             </td><td>com.mozaix.simoneboard                       </td><td>Lifestyle       </td><td>2.0</td><td> 39</td><td>500+   </td><td>  500</td><td>  702</td><td>True</td><td>0</td><td>⋯</td><td>                                   </td><td>elementuser03@gmail.com        </td><td>Jun 21, 2019</td><td>Jun 21, 2019</td><td>Everyone</td><td>https://www.freeprivacypolicy.com/privacy/view/978b22a2fd432de423de81e4ac91d571           </td><td>False</td><td>False</td><td>False</td><td>2021-06-15 20:19:35</td></tr>\n",
       "\t<tr><th scope=row>9</th><td>WhatsOpen                                         </td><td>com.whatsopen.app                            </td><td>Communication   </td><td>0.0</td><td>  0</td><td>10+    </td><td>   10</td><td>   18</td><td>True</td><td>0</td><td>⋯</td><td>http://yilvermolinah.com           </td><td>yilver.mh1996@gmail.com        </td><td>            </td><td>Dec 07, 2018</td><td>Teen    </td><td>http://elcafedelamanana.yilvermolinah.com/policy.html                                     </td><td>False</td><td>False</td><td>False</td><td>2021-06-15 20:19:35</td></tr>\n",
       "\t<tr><th scope=row>10</th><td>Neon 3d Iron Tech Keyboard Theme                  </td><td>com.ikeyboard.theme.neon_3d.iron.tech        </td><td>Personalization </td><td>4.7</td><td>820</td><td>50,000+</td><td>50000</td><td>62433</td><td>True</td><td>0</td><td>⋯</td><td>https://trendyteme888-31139.web.app</td><td>trendyteme.888@gmail.com       </td><td>Sep 22, 2019</td><td>Oct 07, 2020</td><td>Everyone</td><td>http://bit.ly/EmojiThemePro                                                               </td><td>True </td><td>False</td><td>False</td><td>2021-06-15 20:19:35</td></tr>\n",
       "</tbody>\n",
       "</table>\n"
      ],
      "text/latex": [
       "A data.frame: 10 × 24\n",
       "\\begin{tabular}{r|lllllllllllllllllllll}\n",
       "  & App.Name & App.Id & Category & Rating & Rating.Count & Installs & Minimum.Installs & Maximum.Installs & Free & Price & ⋯ & Developer.Website & Developer.Email & Released & Last.Updated & Content.Rating & Privacy.Policy & Ad.Supported & In.App.Purchases & Editors.Choice & Scraped.Time\\\\\n",
       "  & <chr> & <chr> & <chr> & <dbl> & <int> & <chr> & <dbl> & <dbl> & <chr> & <dbl> & ⋯ & <chr> & <chr> & <chr> & <chr> & <chr> & <chr> & <chr> & <chr> & <chr> & <chr>\\\\\n",
       "\\hline\n",
       "\t1 & Gakondo                                            & com.ishakwe.gakondo                           & Adventure        & 0.0 &   0 & 10+     &    10 &    15 & True & 0 & ⋯ & https://beniyizibyose.tk/\\#/         & jean21101999@gmail.com          & Feb 26, 2020 & Feb 26, 2020 & Everyone & https://beniyizibyose.tk/projects/                                                         & False & False & False & 2021-06-15 20:19:35\\\\\n",
       "\t2 & Ampere Battery Info                                & com.webserveis.batteryinfo                    & Tools            & 4.4 &  64 & 5,000+  &  5000 &  7662 & True & 0 & ⋯ & https://webserveis.netlify.app/     & webserveis@gmail.com            & May 21, 2020 & May 06, 2021 & Everyone & https://dev4phones.wordpress.com/licencia-de-uso/                                          & True  & False & False & 2021-06-15 20:19:35\\\\\n",
       "\t3 & Vibook                                             & com.doantiepvien.crm                          & Productivity     & 0.0 &   0 & 50+     &    50 &    58 & True & 0 & ⋯ &                                     & vnacrewit@gmail.com             & Aug 9, 2019  & Aug 19, 2019 & Everyone & https://www.vietnamairlines.com/vn/en/terms-and-conditions/privacy-policy                  & False & False & False & 2021-06-15 20:19:35\\\\\n",
       "\t4 & Smart City Trichy Public Service Vehicles 17UCS548 & cst.stJoseph.ug17ucs548                       & Communication    & 5.0 &   5 & 10+     &    10 &    19 & True & 0 & ⋯ & http://www.climatesmarttech.com/    & climatesmarttech2@gmail.com     & Sep 10, 2018 & Oct 13, 2018 & Everyone &                                                                                            & True  & False & False & 2021-06-15 20:19:35\\\\\n",
       "\t5 & GROW.me                                            & com.horodyski.grower                          & Tools            & 0.0 &   0 & 100+    &   100 &   478 & True & 0 & ⋯ & http://www.horodyski.com.pl         & rmilekhorodyski@gmail.com       & Feb 21, 2020 & Nov 12, 2018 & Everyone & http://www.horodyski.com.pl                                                                & False & False & False & 2021-06-15 20:19:35\\\\\n",
       "\t6 & IMOCCI                                             & com.imocci                                    & Social           & 0.0 &   0 & 50+     &    50 &    89 & True & 0 & ⋯ & http://www.imocci.com               & info@imocci.com                 & Dec 24, 2018 & Dec 20, 2019 & Teen     & https://www.imocci.com/wp-content/uploads/2018/08/Datenschutzerklärung\\_IMOCCI\\_22072018.pdf & False & True  & False & 2021-06-15 20:19:35\\\\\n",
       "\t7 & unlimited 4G data prank free app                   & getfreedata.superfatiza.unlimitedjiodataprank & Libraries \\& Demo & 4.5 &  12 & 1,000+  &  1000 &  2567 & True & 0 & ⋯ &                                     & aitomgharfatimezzahra@gmail.com & Sep 23, 2019 & Sep 27, 2019 & Everyone & https://sites.google.com/view/unlimited4gdataprank                                         & True  & False & False & 2021-06-15 20:19:35\\\\\n",
       "\t8 & The Everyday Calendar                              & com.mozaix.simoneboard                        & Lifestyle        & 2.0 &  39 & 500+    &   500 &   702 & True & 0 & ⋯ &                                     & elementuser03@gmail.com         & Jun 21, 2019 & Jun 21, 2019 & Everyone & https://www.freeprivacypolicy.com/privacy/view/978b22a2fd432de423de81e4ac91d571            & False & False & False & 2021-06-15 20:19:35\\\\\n",
       "\t9 & WhatsOpen                                          & com.whatsopen.app                             & Communication    & 0.0 &   0 & 10+     &    10 &    18 & True & 0 & ⋯ & http://yilvermolinah.com            & yilver.mh1996@gmail.com         &              & Dec 07, 2018 & Teen     & http://elcafedelamanana.yilvermolinah.com/policy.html                                      & False & False & False & 2021-06-15 20:19:35\\\\\n",
       "\t10 & Neon 3d Iron Tech Keyboard Theme                   & com.ikeyboard.theme.neon\\_3d.iron.tech         & Personalization  & 4.7 & 820 & 50,000+ & 50000 & 62433 & True & 0 & ⋯ & https://trendyteme888-31139.web.app & trendyteme.888@gmail.com        & Sep 22, 2019 & Oct 07, 2020 & Everyone & http://bit.ly/EmojiThemePro                                                                & True  & False & False & 2021-06-15 20:19:35\\\\\n",
       "\\end{tabular}\n"
      ],
      "text/markdown": [
       "\n",
       "A data.frame: 10 × 24\n",
       "\n",
       "| <!--/--> | App.Name &lt;chr&gt; | App.Id &lt;chr&gt; | Category &lt;chr&gt; | Rating &lt;dbl&gt; | Rating.Count &lt;int&gt; | Installs &lt;chr&gt; | Minimum.Installs &lt;dbl&gt; | Maximum.Installs &lt;dbl&gt; | Free &lt;chr&gt; | Price &lt;dbl&gt; | ⋯ ⋯ | Developer.Website &lt;chr&gt; | Developer.Email &lt;chr&gt; | Released &lt;chr&gt; | Last.Updated &lt;chr&gt; | Content.Rating &lt;chr&gt; | Privacy.Policy &lt;chr&gt; | Ad.Supported &lt;chr&gt; | In.App.Purchases &lt;chr&gt; | Editors.Choice &lt;chr&gt; | Scraped.Time &lt;chr&gt; |\n",
       "|---|---|---|---|---|---|---|---|---|---|---|---|---|---|---|---|---|---|---|---|---|---|\n",
       "| 1 | Gakondo                                            | com.ishakwe.gakondo                           | Adventure        | 0.0 |   0 | 10+     |    10 |    15 | True | 0 | ⋯ | https://beniyizibyose.tk/#/         | jean21101999@gmail.com          | Feb 26, 2020 | Feb 26, 2020 | Everyone | https://beniyizibyose.tk/projects/                                                         | False | False | False | 2021-06-15 20:19:35 |\n",
       "| 2 | Ampere Battery Info                                | com.webserveis.batteryinfo                    | Tools            | 4.4 |  64 | 5,000+  |  5000 |  7662 | True | 0 | ⋯ | https://webserveis.netlify.app/     | webserveis@gmail.com            | May 21, 2020 | May 06, 2021 | Everyone | https://dev4phones.wordpress.com/licencia-de-uso/                                          | True  | False | False | 2021-06-15 20:19:35 |\n",
       "| 3 | Vibook                                             | com.doantiepvien.crm                          | Productivity     | 0.0 |   0 | 50+     |    50 |    58 | True | 0 | ⋯ | <!----> | vnacrewit@gmail.com             | Aug 9, 2019  | Aug 19, 2019 | Everyone | https://www.vietnamairlines.com/vn/en/terms-and-conditions/privacy-policy                  | False | False | False | 2021-06-15 20:19:35 |\n",
       "| 4 | Smart City Trichy Public Service Vehicles 17UCS548 | cst.stJoseph.ug17ucs548                       | Communication    | 5.0 |   5 | 10+     |    10 |    19 | True | 0 | ⋯ | http://www.climatesmarttech.com/    | climatesmarttech2@gmail.com     | Sep 10, 2018 | Oct 13, 2018 | Everyone | <!----> | True  | False | False | 2021-06-15 20:19:35 |\n",
       "| 5 | GROW.me                                            | com.horodyski.grower                          | Tools            | 0.0 |   0 | 100+    |   100 |   478 | True | 0 | ⋯ | http://www.horodyski.com.pl         | rmilekhorodyski@gmail.com       | Feb 21, 2020 | Nov 12, 2018 | Everyone | http://www.horodyski.com.pl                                                                | False | False | False | 2021-06-15 20:19:35 |\n",
       "| 6 | IMOCCI                                             | com.imocci                                    | Social           | 0.0 |   0 | 50+     |    50 |    89 | True | 0 | ⋯ | http://www.imocci.com               | info@imocci.com                 | Dec 24, 2018 | Dec 20, 2019 | Teen     | https://www.imocci.com/wp-content/uploads/2018/08/Datenschutzerklärung_IMOCCI_22072018.pdf | False | True  | False | 2021-06-15 20:19:35 |\n",
       "| 7 | unlimited 4G data prank free app                   | getfreedata.superfatiza.unlimitedjiodataprank | Libraries &amp; Demo | 4.5 |  12 | 1,000+  |  1000 |  2567 | True | 0 | ⋯ | <!----> | aitomgharfatimezzahra@gmail.com | Sep 23, 2019 | Sep 27, 2019 | Everyone | https://sites.google.com/view/unlimited4gdataprank                                         | True  | False | False | 2021-06-15 20:19:35 |\n",
       "| 8 | The Everyday Calendar                              | com.mozaix.simoneboard                        | Lifestyle        | 2.0 |  39 | 500+    |   500 |   702 | True | 0 | ⋯ | <!----> | elementuser03@gmail.com         | Jun 21, 2019 | Jun 21, 2019 | Everyone | https://www.freeprivacypolicy.com/privacy/view/978b22a2fd432de423de81e4ac91d571            | False | False | False | 2021-06-15 20:19:35 |\n",
       "| 9 | WhatsOpen                                          | com.whatsopen.app                             | Communication    | 0.0 |   0 | 10+     |    10 |    18 | True | 0 | ⋯ | http://yilvermolinah.com            | yilver.mh1996@gmail.com         | <!----> | Dec 07, 2018 | Teen     | http://elcafedelamanana.yilvermolinah.com/policy.html                                      | False | False | False | 2021-06-15 20:19:35 |\n",
       "| 10 | Neon 3d Iron Tech Keyboard Theme                   | com.ikeyboard.theme.neon_3d.iron.tech         | Personalization  | 4.7 | 820 | 50,000+ | 50000 | 62433 | True | 0 | ⋯ | https://trendyteme888-31139.web.app | trendyteme.888@gmail.com        | Sep 22, 2019 | Oct 07, 2020 | Everyone | http://bit.ly/EmojiThemePro                                                                | True  | False | False | 2021-06-15 20:19:35 |\n",
       "\n"
      ],
      "text/plain": [
       "   App.Name                                          \n",
       "1  Gakondo                                           \n",
       "2  Ampere Battery Info                               \n",
       "3  Vibook                                            \n",
       "4  Smart City Trichy Public Service Vehicles 17UCS548\n",
       "5  GROW.me                                           \n",
       "6  IMOCCI                                            \n",
       "7  unlimited 4G data prank free app                  \n",
       "8  The Everyday Calendar                             \n",
       "9  WhatsOpen                                         \n",
       "10 Neon 3d Iron Tech Keyboard Theme                  \n",
       "   App.Id                                        Category         Rating\n",
       "1  com.ishakwe.gakondo                           Adventure        0.0   \n",
       "2  com.webserveis.batteryinfo                    Tools            4.4   \n",
       "3  com.doantiepvien.crm                          Productivity     0.0   \n",
       "4  cst.stJoseph.ug17ucs548                       Communication    5.0   \n",
       "5  com.horodyski.grower                          Tools            0.0   \n",
       "6  com.imocci                                    Social           0.0   \n",
       "7  getfreedata.superfatiza.unlimitedjiodataprank Libraries & Demo 4.5   \n",
       "8  com.mozaix.simoneboard                        Lifestyle        2.0   \n",
       "9  com.whatsopen.app                             Communication    0.0   \n",
       "10 com.ikeyboard.theme.neon_3d.iron.tech         Personalization  4.7   \n",
       "   Rating.Count Installs Minimum.Installs Maximum.Installs Free Price ⋯\n",
       "1    0          10+         10               15            True 0     ⋯\n",
       "2   64          5,000+    5000             7662            True 0     ⋯\n",
       "3    0          50+         50               58            True 0     ⋯\n",
       "4    5          10+         10               19            True 0     ⋯\n",
       "5    0          100+       100              478            True 0     ⋯\n",
       "6    0          50+         50               89            True 0     ⋯\n",
       "7   12          1,000+    1000             2567            True 0     ⋯\n",
       "8   39          500+       500              702            True 0     ⋯\n",
       "9    0          10+         10               18            True 0     ⋯\n",
       "10 820          50,000+  50000            62433            True 0     ⋯\n",
       "   Developer.Website                   Developer.Email                \n",
       "1  https://beniyizibyose.tk/#/         jean21101999@gmail.com         \n",
       "2  https://webserveis.netlify.app/     webserveis@gmail.com           \n",
       "3                                      vnacrewit@gmail.com            \n",
       "4  http://www.climatesmarttech.com/    climatesmarttech2@gmail.com    \n",
       "5  http://www.horodyski.com.pl         rmilekhorodyski@gmail.com      \n",
       "6  http://www.imocci.com               info@imocci.com                \n",
       "7                                      aitomgharfatimezzahra@gmail.com\n",
       "8                                      elementuser03@gmail.com        \n",
       "9  http://yilvermolinah.com            yilver.mh1996@gmail.com        \n",
       "10 https://trendyteme888-31139.web.app trendyteme.888@gmail.com       \n",
       "   Released     Last.Updated Content.Rating\n",
       "1  Feb 26, 2020 Feb 26, 2020 Everyone      \n",
       "2  May 21, 2020 May 06, 2021 Everyone      \n",
       "3  Aug 9, 2019  Aug 19, 2019 Everyone      \n",
       "4  Sep 10, 2018 Oct 13, 2018 Everyone      \n",
       "5  Feb 21, 2020 Nov 12, 2018 Everyone      \n",
       "6  Dec 24, 2018 Dec 20, 2019 Teen          \n",
       "7  Sep 23, 2019 Sep 27, 2019 Everyone      \n",
       "8  Jun 21, 2019 Jun 21, 2019 Everyone      \n",
       "9               Dec 07, 2018 Teen          \n",
       "10 Sep 22, 2019 Oct 07, 2020 Everyone      \n",
       "   Privacy.Policy                                                                            \n",
       "1  https://beniyizibyose.tk/projects/                                                        \n",
       "2  https://dev4phones.wordpress.com/licencia-de-uso/                                         \n",
       "3  https://www.vietnamairlines.com/vn/en/terms-and-conditions/privacy-policy                 \n",
       "4                                                                                            \n",
       "5  http://www.horodyski.com.pl                                                               \n",
       "6  https://www.imocci.com/wp-content/uploads/2018/08/Datenschutzerklärung_IMOCCI_22072018.pdf\n",
       "7  https://sites.google.com/view/unlimited4gdataprank                                        \n",
       "8  https://www.freeprivacypolicy.com/privacy/view/978b22a2fd432de423de81e4ac91d571           \n",
       "9  http://elcafedelamanana.yilvermolinah.com/policy.html                                     \n",
       "10 http://bit.ly/EmojiThemePro                                                               \n",
       "   Ad.Supported In.App.Purchases Editors.Choice Scraped.Time       \n",
       "1  False        False            False          2021-06-15 20:19:35\n",
       "2  True         False            False          2021-06-15 20:19:35\n",
       "3  False        False            False          2021-06-15 20:19:35\n",
       "4  True         False            False          2021-06-15 20:19:35\n",
       "5  False        False            False          2021-06-15 20:19:35\n",
       "6  False        True             False          2021-06-15 20:19:35\n",
       "7  True         False            False          2021-06-15 20:19:35\n",
       "8  False        False            False          2021-06-15 20:19:35\n",
       "9  False        False            False          2021-06-15 20:19:35\n",
       "10 True         False            False          2021-06-15 20:19:35"
      ]
     },
     "metadata": {},
     "output_type": "display_data"
    }
   ],
   "source": [
    "df %>%\n",
    "    head(10)"
   ]
  },
  {
   "attachments": {},
   "cell_type": "markdown",
   "metadata": {},
   "source": [
    "### 2. Se valida si se tiene valores NA"
   ]
  },
  {
   "cell_type": "code",
   "execution_count": 30,
   "metadata": {
    "vscode": {
     "languageId": "r"
    }
   },
   "outputs": [
    {
     "data": {
      "text/plain": [
       "   App.Name             Rating       Rating.Count       Minimum.Installs   \n",
       " Length:2312944     Min.   :0.000   Min.   :        0   Min.   :0.000e+00  \n",
       " Class :character   1st Qu.:0.000   1st Qu.:        0   1st Qu.:5.000e+01  \n",
       " Mode  :character   Median :2.900   Median :        6   Median :5.000e+02  \n",
       "                    Mean   :2.203   Mean   :     2865   Mean   :1.834e+05  \n",
       "                    3rd Qu.:4.300   3rd Qu.:       42   3rd Qu.:5.000e+03  \n",
       "                    Max.   :5.000   Max.   :138557570   Max.   :1.000e+10  \n",
       "                    NA's   :22883   NA's   :22883       NA's   :107        "
      ]
     },
     "metadata": {},
     "output_type": "display_data"
    }
   ],
   "source": [
    "colsNA <- colnames(df)[colSums(is.na(df)) > 0]\n",
    "\n",
    "\n",
    "summary(df[c(colsNA)])"
   ]
  },
  {
   "attachments": {},
   "cell_type": "markdown",
   "metadata": {},
   "source": [
    "Se encuentra valores NA en atributoa que nos relevantes para el tratamiento.\n",
    "- Los atributos App.Name,Rating, Rating.Count se pueden remover ya que son datos irrelevantes para el proyecto.\n",
    "- El atributo Minimum.Installs se lo reemplaza por el valor de 0"
   ]
  },
  {
   "cell_type": "code",
   "execution_count": 43,
   "metadata": {
    "vscode": {
     "languageId": "r"
    }
   },
   "outputs": [
    {
     "name": "stdout",
     "output_type": "stream",
     "text": [
      "[1] \"Atributos con NAs\"\n"
     ]
    },
    {
     "data": {
      "text/html": [
       "'Minimum.Installs'"
      ],
      "text/latex": [
       "'Minimum.Installs'"
      ],
      "text/markdown": [
       "'Minimum.Installs'"
      ],
      "text/plain": [
       "[1] \"Minimum.Installs\""
      ]
     },
     "metadata": {},
     "output_type": "display_data"
    },
    {
     "name": "stdout",
     "output_type": "stream",
     "text": [
      "[1] \"Atributos con NAs\"\n"
     ]
    },
    {
     "data": {
      "text/html": [],
      "text/latex": [],
      "text/markdown": [],
      "text/plain": [
       "character(0)"
      ]
     },
     "metadata": {},
     "output_type": "display_data"
    },
    {
     "data": {
      "text/html": [
       "<table class=\"dataframe\">\n",
       "<caption>A data.frame: 10 × 10</caption>\n",
       "<thead>\n",
       "\t<tr><th></th><th scope=col>Category</th><th scope=col>Installs</th><th scope=col>Minimum.Installs</th><th scope=col>Maximum.Installs</th><th scope=col>Free</th><th scope=col>Price</th><th scope=col>Currency</th><th scope=col>Released</th><th scope=col>Last.Updated</th><th scope=col>Content.Rating</th></tr>\n",
       "\t<tr><th></th><th scope=col>&lt;chr&gt;</th><th scope=col>&lt;chr&gt;</th><th scope=col>&lt;dbl&gt;</th><th scope=col>&lt;dbl&gt;</th><th scope=col>&lt;chr&gt;</th><th scope=col>&lt;dbl&gt;</th><th scope=col>&lt;chr&gt;</th><th scope=col>&lt;chr&gt;</th><th scope=col>&lt;chr&gt;</th><th scope=col>&lt;chr&gt;</th></tr>\n",
       "</thead>\n",
       "<tbody>\n",
       "\t<tr><th scope=row>1</th><td>Adventure       </td><td>10+    </td><td>   10</td><td>   15</td><td>True</td><td>0</td><td>USD</td><td>Feb 26, 2020</td><td>Feb 26, 2020</td><td>Everyone</td></tr>\n",
       "\t<tr><th scope=row>2</th><td>Tools           </td><td>5,000+ </td><td> 5000</td><td> 7662</td><td>True</td><td>0</td><td>USD</td><td>May 21, 2020</td><td>May 06, 2021</td><td>Everyone</td></tr>\n",
       "\t<tr><th scope=row>3</th><td>Productivity    </td><td>50+    </td><td>   50</td><td>   58</td><td>True</td><td>0</td><td>USD</td><td>Aug 9, 2019 </td><td>Aug 19, 2019</td><td>Everyone</td></tr>\n",
       "\t<tr><th scope=row>4</th><td>Communication   </td><td>10+    </td><td>   10</td><td>   19</td><td>True</td><td>0</td><td>USD</td><td>Sep 10, 2018</td><td>Oct 13, 2018</td><td>Everyone</td></tr>\n",
       "\t<tr><th scope=row>5</th><td>Tools           </td><td>100+   </td><td>  100</td><td>  478</td><td>True</td><td>0</td><td>USD</td><td>Feb 21, 2020</td><td>Nov 12, 2018</td><td>Everyone</td></tr>\n",
       "\t<tr><th scope=row>6</th><td>Social          </td><td>50+    </td><td>   50</td><td>   89</td><td>True</td><td>0</td><td>USD</td><td>Dec 24, 2018</td><td>Dec 20, 2019</td><td>Teen    </td></tr>\n",
       "\t<tr><th scope=row>7</th><td>Libraries &amp; Demo</td><td>1,000+ </td><td> 1000</td><td> 2567</td><td>True</td><td>0</td><td>USD</td><td>Sep 23, 2019</td><td>Sep 27, 2019</td><td>Everyone</td></tr>\n",
       "\t<tr><th scope=row>8</th><td>Lifestyle       </td><td>500+   </td><td>  500</td><td>  702</td><td>True</td><td>0</td><td>USD</td><td>Jun 21, 2019</td><td>Jun 21, 2019</td><td>Everyone</td></tr>\n",
       "\t<tr><th scope=row>9</th><td>Communication   </td><td>10+    </td><td>   10</td><td>   18</td><td>True</td><td>0</td><td>USD</td><td>            </td><td>Dec 07, 2018</td><td>Teen    </td></tr>\n",
       "\t<tr><th scope=row>10</th><td>Personalization </td><td>50,000+</td><td>50000</td><td>62433</td><td>True</td><td>0</td><td>USD</td><td>Sep 22, 2019</td><td>Oct 07, 2020</td><td>Everyone</td></tr>\n",
       "</tbody>\n",
       "</table>\n"
      ],
      "text/latex": [
       "A data.frame: 10 × 10\n",
       "\\begin{tabular}{r|llllllllll}\n",
       "  & Category & Installs & Minimum.Installs & Maximum.Installs & Free & Price & Currency & Released & Last.Updated & Content.Rating\\\\\n",
       "  & <chr> & <chr> & <dbl> & <dbl> & <chr> & <dbl> & <chr> & <chr> & <chr> & <chr>\\\\\n",
       "\\hline\n",
       "\t1 & Adventure        & 10+     &    10 &    15 & True & 0 & USD & Feb 26, 2020 & Feb 26, 2020 & Everyone\\\\\n",
       "\t2 & Tools            & 5,000+  &  5000 &  7662 & True & 0 & USD & May 21, 2020 & May 06, 2021 & Everyone\\\\\n",
       "\t3 & Productivity     & 50+     &    50 &    58 & True & 0 & USD & Aug 9, 2019  & Aug 19, 2019 & Everyone\\\\\n",
       "\t4 & Communication    & 10+     &    10 &    19 & True & 0 & USD & Sep 10, 2018 & Oct 13, 2018 & Everyone\\\\\n",
       "\t5 & Tools            & 100+    &   100 &   478 & True & 0 & USD & Feb 21, 2020 & Nov 12, 2018 & Everyone\\\\\n",
       "\t6 & Social           & 50+     &    50 &    89 & True & 0 & USD & Dec 24, 2018 & Dec 20, 2019 & Teen    \\\\\n",
       "\t7 & Libraries \\& Demo & 1,000+  &  1000 &  2567 & True & 0 & USD & Sep 23, 2019 & Sep 27, 2019 & Everyone\\\\\n",
       "\t8 & Lifestyle        & 500+    &   500 &   702 & True & 0 & USD & Jun 21, 2019 & Jun 21, 2019 & Everyone\\\\\n",
       "\t9 & Communication    & 10+     &    10 &    18 & True & 0 & USD &              & Dec 07, 2018 & Teen    \\\\\n",
       "\t10 & Personalization  & 50,000+ & 50000 & 62433 & True & 0 & USD & Sep 22, 2019 & Oct 07, 2020 & Everyone\\\\\n",
       "\\end{tabular}\n"
      ],
      "text/markdown": [
       "\n",
       "A data.frame: 10 × 10\n",
       "\n",
       "| <!--/--> | Category &lt;chr&gt; | Installs &lt;chr&gt; | Minimum.Installs &lt;dbl&gt; | Maximum.Installs &lt;dbl&gt; | Free &lt;chr&gt; | Price &lt;dbl&gt; | Currency &lt;chr&gt; | Released &lt;chr&gt; | Last.Updated &lt;chr&gt; | Content.Rating &lt;chr&gt; |\n",
       "|---|---|---|---|---|---|---|---|---|---|---|\n",
       "| 1 | Adventure        | 10+     |    10 |    15 | True | 0 | USD | Feb 26, 2020 | Feb 26, 2020 | Everyone |\n",
       "| 2 | Tools            | 5,000+  |  5000 |  7662 | True | 0 | USD | May 21, 2020 | May 06, 2021 | Everyone |\n",
       "| 3 | Productivity     | 50+     |    50 |    58 | True | 0 | USD | Aug 9, 2019  | Aug 19, 2019 | Everyone |\n",
       "| 4 | Communication    | 10+     |    10 |    19 | True | 0 | USD | Sep 10, 2018 | Oct 13, 2018 | Everyone |\n",
       "| 5 | Tools            | 100+    |   100 |   478 | True | 0 | USD | Feb 21, 2020 | Nov 12, 2018 | Everyone |\n",
       "| 6 | Social           | 50+     |    50 |    89 | True | 0 | USD | Dec 24, 2018 | Dec 20, 2019 | Teen     |\n",
       "| 7 | Libraries &amp; Demo | 1,000+  |  1000 |  2567 | True | 0 | USD | Sep 23, 2019 | Sep 27, 2019 | Everyone |\n",
       "| 8 | Lifestyle        | 500+    |   500 |   702 | True | 0 | USD | Jun 21, 2019 | Jun 21, 2019 | Everyone |\n",
       "| 9 | Communication    | 10+     |    10 |    18 | True | 0 | USD | <!----> | Dec 07, 2018 | Teen     |\n",
       "| 10 | Personalization  | 50,000+ | 50000 | 62433 | True | 0 | USD | Sep 22, 2019 | Oct 07, 2020 | Everyone |\n",
       "\n"
      ],
      "text/plain": [
       "   Category         Installs Minimum.Installs Maximum.Installs Free Price\n",
       "1  Adventure        10+         10               15            True 0    \n",
       "2  Tools            5,000+    5000             7662            True 0    \n",
       "3  Productivity     50+         50               58            True 0    \n",
       "4  Communication    10+         10               19            True 0    \n",
       "5  Tools            100+       100              478            True 0    \n",
       "6  Social           50+         50               89            True 0    \n",
       "7  Libraries & Demo 1,000+    1000             2567            True 0    \n",
       "8  Lifestyle        500+       500              702            True 0    \n",
       "9  Communication    10+         10               18            True 0    \n",
       "10 Personalization  50,000+  50000            62433            True 0    \n",
       "   Currency Released     Last.Updated Content.Rating\n",
       "1  USD      Feb 26, 2020 Feb 26, 2020 Everyone      \n",
       "2  USD      May 21, 2020 May 06, 2021 Everyone      \n",
       "3  USD      Aug 9, 2019  Aug 19, 2019 Everyone      \n",
       "4  USD      Sep 10, 2018 Oct 13, 2018 Everyone      \n",
       "5  USD      Feb 21, 2020 Nov 12, 2018 Everyone      \n",
       "6  USD      Dec 24, 2018 Dec 20, 2019 Teen          \n",
       "7  USD      Sep 23, 2019 Sep 27, 2019 Everyone      \n",
       "8  USD      Jun 21, 2019 Jun 21, 2019 Everyone      \n",
       "9  USD                   Dec 07, 2018 Teen          \n",
       "10 USD      Sep 22, 2019 Oct 07, 2020 Everyone      "
      ]
     },
     "metadata": {},
     "output_type": "display_data"
    }
   ],
   "source": [
    "# Se elimina atributos irrelevantes\n",
    "df2 <- df[,!names(df) %in% c(\"App.Name\",\"App.Id\",\"Rating\",\"Rating.Count\",\"Size\",\"Minimum.Android\",\"Developer.Id\",\"Developer.Website\",\"Developer.Email\",\"Privacy.Policy\",\"Ad.Supported\",\"In.App.Purchases\",\"Editors.Choice\",\"Scraped.Time\")]\n",
    "\n",
    "# Se vuelve a validar los valores NA para verificar que no se muestre el atributo eliminado\n",
    "print(\"Atributos con NAs\")\n",
    "colnames(df2)[colSums(is.na(df2)) > 0]\n",
    "\n",
    "# Como los atributos que todavía tienen NAs son del tipo numérico se reemplaza por ceros\n",
    "df3 <- df2 %>% impute_zero_all()\n",
    "\n",
    "\n",
    "print(\"Atributos con NAs\")\n",
    "colnames(df3)[colSums(is.na(df3)) > 0]\n",
    "\n",
    "df3 %>% head(10)"
   ]
  },
  {
   "attachments": {},
   "cell_type": "markdown",
   "metadata": {},
   "source": [
    "Con los datos ya preparados se valida las categorías de edad para escoger Todos o Everyone"
   ]
  },
  {
   "cell_type": "code",
   "execution_count": 115,
   "metadata": {
    "vscode": {
     "languageId": "r"
    }
   },
   "outputs": [
    {
     "data": {
      "text/html": [
       "<table class=\"dataframe\">\n",
       "<caption>A grouped_df: 6 × 2</caption>\n",
       "<thead>\n",
       "\t<tr><th scope=col>Content.Rating</th><th scope=col>n</th></tr>\n",
       "\t<tr><th scope=col>&lt;chr&gt;</th><th scope=col>&lt;int&gt;</th></tr>\n",
       "</thead>\n",
       "<tbody>\n",
       "\t<tr><td>Adults only 18+</td><td>    136</td></tr>\n",
       "\t<tr><td>Everyone       </td><td>2022089</td></tr>\n",
       "\t<tr><td>Everyone 10+   </td><td>  33901</td></tr>\n",
       "\t<tr><td>Mature 17+     </td><td>  60289</td></tr>\n",
       "\t<tr><td>Teen           </td><td> 196375</td></tr>\n",
       "\t<tr><td>Unrated        </td><td>    154</td></tr>\n",
       "</tbody>\n",
       "</table>\n"
      ],
      "text/latex": [
       "A grouped\\_df: 6 × 2\n",
       "\\begin{tabular}{ll}\n",
       " Content.Rating & n\\\\\n",
       " <chr> & <int>\\\\\n",
       "\\hline\n",
       "\t Adults only 18+ &     136\\\\\n",
       "\t Everyone        & 2022089\\\\\n",
       "\t Everyone 10+    &   33901\\\\\n",
       "\t Mature 17+      &   60289\\\\\n",
       "\t Teen            &  196375\\\\\n",
       "\t Unrated         &     154\\\\\n",
       "\\end{tabular}\n"
      ],
      "text/markdown": [
       "\n",
       "A grouped_df: 6 × 2\n",
       "\n",
       "| Content.Rating &lt;chr&gt; | n &lt;int&gt; |\n",
       "|---|---|\n",
       "| Adults only 18+ |     136 |\n",
       "| Everyone        | 2022089 |\n",
       "| Everyone 10+    |   33901 |\n",
       "| Mature 17+      |   60289 |\n",
       "| Teen            |  196375 |\n",
       "| Unrated         |     154 |\n",
       "\n"
      ],
      "text/plain": [
       "  Content.Rating  n      \n",
       "1 Adults only 18+     136\n",
       "2 Everyone        2022089\n",
       "3 Everyone 10+      33901\n",
       "4 Mature 17+        60289\n",
       "5 Teen             196375\n",
       "6 Unrated             154"
      ]
     },
     "metadata": {},
     "output_type": "display_data"
    }
   ],
   "source": [
    "df3 %>%\n",
    "    group_by(Content.Rating) %>%\n",
    "    count()\n",
    "\n",
    "playstore <- df3 %>%\n",
    "    filter(Content.Rating == \"Teen\")"
   ]
  },
  {
   "cell_type": "code",
   "execution_count": 116,
   "metadata": {
    "vscode": {
     "languageId": "r"
    }
   },
   "outputs": [
    {
     "data": {
      "text/html": [
       "<table class=\"dataframe\">\n",
       "<caption>A tibble: 48 × 2</caption>\n",
       "<thead>\n",
       "\t<tr><th scope=col>Category</th><th scope=col>install.max</th></tr>\n",
       "\t<tr><th scope=col>&lt;chr&gt;</th><th scope=col>&lt;dbl&gt;</th></tr>\n",
       "</thead>\n",
       "<tbody>\n",
       "\t<tr><td>Video Players &amp; Editors</td><td>9766230924</td></tr>\n",
       "\t<tr><td>Social                 </td><td>6782619635</td></tr>\n",
       "\t<tr><td>Entertainment          </td><td>4605543029</td></tr>\n",
       "\t<tr><td><span style=white-space:pre-wrap>Books &amp; Reference      </span></td><td>3202676731</td></tr>\n",
       "\t<tr><td><span style=white-space:pre-wrap>News &amp; Magazines       </span></td><td>2961820154</td></tr>\n",
       "\t<tr><td><span style=white-space:pre-wrap>Auto &amp; Vehicles        </span></td><td>1976625745</td></tr>\n",
       "\t<tr><td>Tools                  </td><td>1682763021</td></tr>\n",
       "\t<tr><td><span style=white-space:pre-wrap>Music &amp; Audio          </span></td><td>1067343725</td></tr>\n",
       "\t<tr><td>Communication          </td><td> 964831762</td></tr>\n",
       "\t<tr><td>Photography            </td><td> 831745347</td></tr>\n",
       "\t<tr><td>Lifestyle              </td><td> 615144909</td></tr>\n",
       "\t<tr><td>Shopping               </td><td> 581776749</td></tr>\n",
       "\t<tr><td>Action                 </td><td> 505818718</td></tr>\n",
       "\t<tr><td>Racing                 </td><td> 437455768</td></tr>\n",
       "\t<tr><td>Personalization        </td><td> 426891623</td></tr>\n",
       "\t<tr><td>Arcade                 </td><td> 390613416</td></tr>\n",
       "\t<tr><td>Music                  </td><td> 361997020</td></tr>\n",
       "\t<tr><td>Sports                 </td><td> 193858271</td></tr>\n",
       "\t<tr><td>Simulation             </td><td> 189421569</td></tr>\n",
       "\t<tr><td>Casual                 </td><td> 176443253</td></tr>\n",
       "\t<tr><td>Puzzle                 </td><td> 168269660</td></tr>\n",
       "\t<tr><td>Adventure              </td><td> 163379217</td></tr>\n",
       "\t<tr><td>Role Playing           </td><td> 153947521</td></tr>\n",
       "\t<tr><td>Strategy               </td><td> 153877143</td></tr>\n",
       "\t<tr><td><span style=white-space:pre-wrap>Art &amp; Design           </span></td><td> 117455990</td></tr>\n",
       "\t<tr><td><span style=white-space:pre-wrap>Health &amp; Fitness       </span></td><td> 105819808</td></tr>\n",
       "\t<tr><td>Board                  </td><td> 100542807</td></tr>\n",
       "\t<tr><td>Casino                 </td><td>  95406186</td></tr>\n",
       "\t<tr><td>Productivity           </td><td>  89041085</td></tr>\n",
       "\t<tr><td>Card                   </td><td>  86123846</td></tr>\n",
       "\t<tr><td>Comics                 </td><td>  85170436</td></tr>\n",
       "\t<tr><td>Word                   </td><td>  78881769</td></tr>\n",
       "\t<tr><td>Education              </td><td>  69941784</td></tr>\n",
       "\t<tr><td><span style=white-space:pre-wrap>Food &amp; Drink           </span></td><td><span style=white-space:pre-wrap>  54298839</span></td></tr>\n",
       "\t<tr><td>Weather                </td><td>  27058506</td></tr>\n",
       "\t<tr><td><span style=white-space:pre-wrap>Travel &amp; Local         </span></td><td><span style=white-space:pre-wrap>  24149348</span></td></tr>\n",
       "\t<tr><td>Finance                </td><td>  23367944</td></tr>\n",
       "\t<tr><td>Business               </td><td>  17673009</td></tr>\n",
       "\t<tr><td>Trivia                 </td><td>  16053448</td></tr>\n",
       "\t<tr><td>Educational            </td><td>  12981079</td></tr>\n",
       "\t<tr><td>Parenting              </td><td>   8424428</td></tr>\n",
       "\t<tr><td><span style=white-space:pre-wrap>Libraries &amp; Demo       </span></td><td><span style=white-space:pre-wrap>   8123690</span></td></tr>\n",
       "\t<tr><td>Beauty                 </td><td>   7813579</td></tr>\n",
       "\t<tr><td>Medical                </td><td>   5971109</td></tr>\n",
       "\t<tr><td><span style=white-space:pre-wrap>House &amp; Home           </span></td><td><span style=white-space:pre-wrap>   5884128</span></td></tr>\n",
       "\t<tr><td>Events                 </td><td>   3217485</td></tr>\n",
       "\t<tr><td><span style=white-space:pre-wrap>Maps &amp; Navigation      </span></td><td><span style=white-space:pre-wrap>   2651060</span></td></tr>\n",
       "\t<tr><td>Dating                 </td><td>    851783</td></tr>\n",
       "</tbody>\n",
       "</table>\n"
      ],
      "text/latex": [
       "A tibble: 48 × 2\n",
       "\\begin{tabular}{ll}\n",
       " Category & install.max\\\\\n",
       " <chr> & <dbl>\\\\\n",
       "\\hline\n",
       "\t Video Players \\& Editors & 9766230924\\\\\n",
       "\t Social                  & 6782619635\\\\\n",
       "\t Entertainment           & 4605543029\\\\\n",
       "\t Books \\& Reference       & 3202676731\\\\\n",
       "\t News \\& Magazines        & 2961820154\\\\\n",
       "\t Auto \\& Vehicles         & 1976625745\\\\\n",
       "\t Tools                   & 1682763021\\\\\n",
       "\t Music \\& Audio           & 1067343725\\\\\n",
       "\t Communication           &  964831762\\\\\n",
       "\t Photography             &  831745347\\\\\n",
       "\t Lifestyle               &  615144909\\\\\n",
       "\t Shopping                &  581776749\\\\\n",
       "\t Action                  &  505818718\\\\\n",
       "\t Racing                  &  437455768\\\\\n",
       "\t Personalization         &  426891623\\\\\n",
       "\t Arcade                  &  390613416\\\\\n",
       "\t Music                   &  361997020\\\\\n",
       "\t Sports                  &  193858271\\\\\n",
       "\t Simulation              &  189421569\\\\\n",
       "\t Casual                  &  176443253\\\\\n",
       "\t Puzzle                  &  168269660\\\\\n",
       "\t Adventure               &  163379217\\\\\n",
       "\t Role Playing            &  153947521\\\\\n",
       "\t Strategy                &  153877143\\\\\n",
       "\t Art \\& Design            &  117455990\\\\\n",
       "\t Health \\& Fitness        &  105819808\\\\\n",
       "\t Board                   &  100542807\\\\\n",
       "\t Casino                  &   95406186\\\\\n",
       "\t Productivity            &   89041085\\\\\n",
       "\t Card                    &   86123846\\\\\n",
       "\t Comics                  &   85170436\\\\\n",
       "\t Word                    &   78881769\\\\\n",
       "\t Education               &   69941784\\\\\n",
       "\t Food \\& Drink            &   54298839\\\\\n",
       "\t Weather                 &   27058506\\\\\n",
       "\t Travel \\& Local          &   24149348\\\\\n",
       "\t Finance                 &   23367944\\\\\n",
       "\t Business                &   17673009\\\\\n",
       "\t Trivia                  &   16053448\\\\\n",
       "\t Educational             &   12981079\\\\\n",
       "\t Parenting               &    8424428\\\\\n",
       "\t Libraries \\& Demo        &    8123690\\\\\n",
       "\t Beauty                  &    7813579\\\\\n",
       "\t Medical                 &    5971109\\\\\n",
       "\t House \\& Home            &    5884128\\\\\n",
       "\t Events                  &    3217485\\\\\n",
       "\t Maps \\& Navigation       &    2651060\\\\\n",
       "\t Dating                  &     851783\\\\\n",
       "\\end{tabular}\n"
      ],
      "text/markdown": [
       "\n",
       "A tibble: 48 × 2\n",
       "\n",
       "| Category &lt;chr&gt; | install.max &lt;dbl&gt; |\n",
       "|---|---|\n",
       "| Video Players &amp; Editors | 9766230924 |\n",
       "| Social                  | 6782619635 |\n",
       "| Entertainment           | 4605543029 |\n",
       "| Books &amp; Reference       | 3202676731 |\n",
       "| News &amp; Magazines        | 2961820154 |\n",
       "| Auto &amp; Vehicles         | 1976625745 |\n",
       "| Tools                   | 1682763021 |\n",
       "| Music &amp; Audio           | 1067343725 |\n",
       "| Communication           |  964831762 |\n",
       "| Photography             |  831745347 |\n",
       "| Lifestyle               |  615144909 |\n",
       "| Shopping                |  581776749 |\n",
       "| Action                  |  505818718 |\n",
       "| Racing                  |  437455768 |\n",
       "| Personalization         |  426891623 |\n",
       "| Arcade                  |  390613416 |\n",
       "| Music                   |  361997020 |\n",
       "| Sports                  |  193858271 |\n",
       "| Simulation              |  189421569 |\n",
       "| Casual                  |  176443253 |\n",
       "| Puzzle                  |  168269660 |\n",
       "| Adventure               |  163379217 |\n",
       "| Role Playing            |  153947521 |\n",
       "| Strategy                |  153877143 |\n",
       "| Art &amp; Design            |  117455990 |\n",
       "| Health &amp; Fitness        |  105819808 |\n",
       "| Board                   |  100542807 |\n",
       "| Casino                  |   95406186 |\n",
       "| Productivity            |   89041085 |\n",
       "| Card                    |   86123846 |\n",
       "| Comics                  |   85170436 |\n",
       "| Word                    |   78881769 |\n",
       "| Education               |   69941784 |\n",
       "| Food &amp; Drink            |   54298839 |\n",
       "| Weather                 |   27058506 |\n",
       "| Travel &amp; Local          |   24149348 |\n",
       "| Finance                 |   23367944 |\n",
       "| Business                |   17673009 |\n",
       "| Trivia                  |   16053448 |\n",
       "| Educational             |   12981079 |\n",
       "| Parenting               |    8424428 |\n",
       "| Libraries &amp; Demo        |    8123690 |\n",
       "| Beauty                  |    7813579 |\n",
       "| Medical                 |    5971109 |\n",
       "| House &amp; Home            |    5884128 |\n",
       "| Events                  |    3217485 |\n",
       "| Maps &amp; Navigation       |    2651060 |\n",
       "| Dating                  |     851783 |\n",
       "\n"
      ],
      "text/plain": [
       "   Category                install.max\n",
       "1  Video Players & Editors 9766230924 \n",
       "2  Social                  6782619635 \n",
       "3  Entertainment           4605543029 \n",
       "4  Books & Reference       3202676731 \n",
       "5  News & Magazines        2961820154 \n",
       "6  Auto & Vehicles         1976625745 \n",
       "7  Tools                   1682763021 \n",
       "8  Music & Audio           1067343725 \n",
       "9  Communication            964831762 \n",
       "10 Photography              831745347 \n",
       "11 Lifestyle                615144909 \n",
       "12 Shopping                 581776749 \n",
       "13 Action                   505818718 \n",
       "14 Racing                   437455768 \n",
       "15 Personalization          426891623 \n",
       "16 Arcade                   390613416 \n",
       "17 Music                    361997020 \n",
       "18 Sports                   193858271 \n",
       "19 Simulation               189421569 \n",
       "20 Casual                   176443253 \n",
       "21 Puzzle                   168269660 \n",
       "22 Adventure                163379217 \n",
       "23 Role Playing             153947521 \n",
       "24 Strategy                 153877143 \n",
       "25 Art & Design             117455990 \n",
       "26 Health & Fitness         105819808 \n",
       "27 Board                    100542807 \n",
       "28 Casino                    95406186 \n",
       "29 Productivity              89041085 \n",
       "30 Card                      86123846 \n",
       "31 Comics                    85170436 \n",
       "32 Word                      78881769 \n",
       "33 Education                 69941784 \n",
       "34 Food & Drink              54298839 \n",
       "35 Weather                   27058506 \n",
       "36 Travel & Local            24149348 \n",
       "37 Finance                   23367944 \n",
       "38 Business                  17673009 \n",
       "39 Trivia                    16053448 \n",
       "40 Educational               12981079 \n",
       "41 Parenting                  8424428 \n",
       "42 Libraries & Demo           8123690 \n",
       "43 Beauty                     7813579 \n",
       "44 Medical                    5971109 \n",
       "45 House & Home               5884128 \n",
       "46 Events                     3217485 \n",
       "47 Maps & Navigation          2651060 \n",
       "48 Dating                      851783 "
      ]
     },
     "metadata": {},
     "output_type": "display_data"
    }
   ],
   "source": [
    "playstoreMax <- playstore %>%\n",
    "    group_by(Category) %>%\n",
    "    summarise(install.max = max(Maximum.Installs))\n",
    "\n",
    "playstoreMax %>%\n",
    "    arrange(desc(install.max))"
   ]
  },
  {
   "attachments": {},
   "cell_type": "markdown",
   "metadata": {},
   "source": [
    "Como existen categorías de millones de descargas se crea bins de tamaño de 100 mil"
   ]
  },
  {
   "cell_type": "code",
   "execution_count": 117,
   "metadata": {
    "vscode": {
     "languageId": "r"
    }
   },
   "outputs": [],
   "source": [
    "playstore <- playstore %>%\n",
    "    group_by(Category) %>%\n",
    "    mutate(install.max = max(Maximum.Installs))\n",
    "\n",
    "playstore <- playstore %>%\n",
    "   mutate(installs.bins = cut(install.max, breaks= 1000000*(0:100000),dig.lab=11))"
   ]
  },
  {
   "cell_type": "code",
   "execution_count": 126,
   "metadata": {
    "vscode": {
     "languageId": "r"
    }
   },
   "outputs": [
    {
     "data": {
      "text/html": [
       "<table class=\"dataframe\">\n",
       "<caption>A grouped_df: 48 × 3</caption>\n",
       "<thead>\n",
       "\t<tr><th scope=col>Category</th><th scope=col>installs.bins</th><th scope=col>n</th></tr>\n",
       "\t<tr><th scope=col>&lt;chr&gt;</th><th scope=col>&lt;fct&gt;</th><th scope=col>&lt;int&gt;</th></tr>\n",
       "</thead>\n",
       "<tbody>\n",
       "\t<tr><td>Action                 </td><td>(505000000,506000000]  </td><td> 7987</td></tr>\n",
       "\t<tr><td>Adventure              </td><td>(163000000,164000000]  </td><td> 5406</td></tr>\n",
       "\t<tr><td>Arcade                 </td><td>(390000000,391000000]  </td><td> 3372</td></tr>\n",
       "\t<tr><td><span style=white-space:pre-wrap>Art &amp; Design           </span></td><td><span style=white-space:pre-wrap>(117000000,118000000]  </span></td><td> 1184</td></tr>\n",
       "\t<tr><td><span style=white-space:pre-wrap>Auto &amp; Vehicles        </span></td><td>(1976000000,1977000000]</td><td><span style=white-space:pre-wrap>  720</span></td></tr>\n",
       "\t<tr><td>Beauty                 </td><td>(7000000,8000000]      </td><td>  764</td></tr>\n",
       "\t<tr><td>Board                  </td><td>(100000000,101000000]  </td><td> 1028</td></tr>\n",
       "\t<tr><td><span style=white-space:pre-wrap>Books &amp; Reference      </span></td><td>(3202000000,3203000000]</td><td> 7658</td></tr>\n",
       "\t<tr><td>Business               </td><td>(17000000,18000000]    </td><td> 6033</td></tr>\n",
       "\t<tr><td>Card                   </td><td>(86000000,87000000]    </td><td> 2611</td></tr>\n",
       "\t<tr><td>Casino                 </td><td>(95000000,96000000]    </td><td> 4573</td></tr>\n",
       "\t<tr><td>Casual                 </td><td>(176000000,177000000]  </td><td> 3777</td></tr>\n",
       "\t<tr><td>Comics                 </td><td>(85000000,86000000]    </td><td>  927</td></tr>\n",
       "\t<tr><td>Communication          </td><td>(964000000,965000000]  </td><td> 7046</td></tr>\n",
       "\t<tr><td>Dating                 </td><td>(0,1000000]            </td><td>  351</td></tr>\n",
       "\t<tr><td>Education              </td><td>(69000000,70000000]    </td><td> 6393</td></tr>\n",
       "\t<tr><td>Educational            </td><td>(12000000,13000000]    </td><td>  404</td></tr>\n",
       "\t<tr><td>Entertainment          </td><td>(4605000000,4606000000]</td><td>16565</td></tr>\n",
       "\t<tr><td>Events                 </td><td>(3000000,4000000]      </td><td> 1438</td></tr>\n",
       "\t<tr><td>Finance                </td><td>(23000000,24000000]    </td><td>  837</td></tr>\n",
       "\t<tr><td><span style=white-space:pre-wrap>Food &amp; Drink           </span></td><td><span style=white-space:pre-wrap>(54000000,55000000]    </span></td><td> 2911</td></tr>\n",
       "\t<tr><td><span style=white-space:pre-wrap>Health &amp; Fitness       </span></td><td><span style=white-space:pre-wrap>(105000000,106000000]  </span></td><td> 2707</td></tr>\n",
       "\t<tr><td><span style=white-space:pre-wrap>House &amp; Home           </span></td><td><span style=white-space:pre-wrap>(5000000,6000000]      </span></td><td><span style=white-space:pre-wrap>  443</span></td></tr>\n",
       "\t<tr><td><span style=white-space:pre-wrap>Libraries &amp; Demo       </span></td><td><span style=white-space:pre-wrap>(8000000,9000000]      </span></td><td><span style=white-space:pre-wrap>  281</span></td></tr>\n",
       "\t<tr><td>Lifestyle              </td><td>(615000000,616000000]  </td><td> 9033</td></tr>\n",
       "\t<tr><td><span style=white-space:pre-wrap>Maps &amp; Navigation      </span></td><td><span style=white-space:pre-wrap>(2000000,3000000]      </span></td><td><span style=white-space:pre-wrap>  533</span></td></tr>\n",
       "\t<tr><td>Medical                </td><td>(5000000,6000000]      </td><td> 1011</td></tr>\n",
       "\t<tr><td>Music                  </td><td>(361000000,362000000]  </td><td>  334</td></tr>\n",
       "\t<tr><td><span style=white-space:pre-wrap>Music &amp; Audio          </span></td><td>(1067000000,1068000000]</td><td>36011</td></tr>\n",
       "\t<tr><td><span style=white-space:pre-wrap>News &amp; Magazines       </span></td><td>(2961000000,2962000000]</td><td> 2303</td></tr>\n",
       "\t<tr><td>Parenting              </td><td>(8000000,9000000]      </td><td>  253</td></tr>\n",
       "\t<tr><td>Personalization        </td><td>(426000000,427000000]  </td><td> 9257</td></tr>\n",
       "\t<tr><td>Photography            </td><td>(831000000,832000000]  </td><td> 1894</td></tr>\n",
       "\t<tr><td>Productivity           </td><td>(89000000,90000000]    </td><td> 1405</td></tr>\n",
       "\t<tr><td>Puzzle                 </td><td>(168000000,169000000]  </td><td> 2154</td></tr>\n",
       "\t<tr><td>Racing                 </td><td>(437000000,438000000]  </td><td>  640</td></tr>\n",
       "\t<tr><td>Role Playing           </td><td>(153000000,154000000]  </td><td> 3375</td></tr>\n",
       "\t<tr><td>Shopping               </td><td>(581000000,582000000]  </td><td> 3122</td></tr>\n",
       "\t<tr><td>Simulation             </td><td>(189000000,190000000]  </td><td> 3658</td></tr>\n",
       "\t<tr><td>Social                 </td><td>(6782000000,6783000000]</td><td>23560</td></tr>\n",
       "\t<tr><td>Sports                 </td><td>(193000000,194000000]  </td><td> 3433</td></tr>\n",
       "\t<tr><td>Strategy               </td><td>(153000000,154000000]  </td><td> 1384</td></tr>\n",
       "\t<tr><td>Tools                  </td><td>(1682000000,1683000000]</td><td> 1951</td></tr>\n",
       "\t<tr><td><span style=white-space:pre-wrap>Travel &amp; Local         </span></td><td><span style=white-space:pre-wrap>(24000000,25000000]    </span></td><td> 2752</td></tr>\n",
       "\t<tr><td>Trivia                 </td><td>(16000000,17000000]    </td><td>  607</td></tr>\n",
       "\t<tr><td>Video Players &amp; Editors</td><td>(9766000000,9767000000]</td><td> 1012</td></tr>\n",
       "\t<tr><td>Weather                </td><td>(27000000,28000000]    </td><td>  921</td></tr>\n",
       "\t<tr><td>Word                   </td><td>(78000000,79000000]    </td><td>  356</td></tr>\n",
       "</tbody>\n",
       "</table>\n"
      ],
      "text/latex": [
       "A grouped\\_df: 48 × 3\n",
       "\\begin{tabular}{lll}\n",
       " Category & installs.bins & n\\\\\n",
       " <chr> & <fct> & <int>\\\\\n",
       "\\hline\n",
       "\t Action                  & (505000000,506000000{]}   &  7987\\\\\n",
       "\t Adventure               & (163000000,164000000{]}   &  5406\\\\\n",
       "\t Arcade                  & (390000000,391000000{]}   &  3372\\\\\n",
       "\t Art \\& Design            & (117000000,118000000{]}   &  1184\\\\\n",
       "\t Auto \\& Vehicles         & (1976000000,1977000000{]} &   720\\\\\n",
       "\t Beauty                  & (7000000,8000000{]}       &   764\\\\\n",
       "\t Board                   & (100000000,101000000{]}   &  1028\\\\\n",
       "\t Books \\& Reference       & (3202000000,3203000000{]} &  7658\\\\\n",
       "\t Business                & (17000000,18000000{]}     &  6033\\\\\n",
       "\t Card                    & (86000000,87000000{]}     &  2611\\\\\n",
       "\t Casino                  & (95000000,96000000{]}     &  4573\\\\\n",
       "\t Casual                  & (176000000,177000000{]}   &  3777\\\\\n",
       "\t Comics                  & (85000000,86000000{]}     &   927\\\\\n",
       "\t Communication           & (964000000,965000000{]}   &  7046\\\\\n",
       "\t Dating                  & (0,1000000{]}             &   351\\\\\n",
       "\t Education               & (69000000,70000000{]}     &  6393\\\\\n",
       "\t Educational             & (12000000,13000000{]}     &   404\\\\\n",
       "\t Entertainment           & (4605000000,4606000000{]} & 16565\\\\\n",
       "\t Events                  & (3000000,4000000{]}       &  1438\\\\\n",
       "\t Finance                 & (23000000,24000000{]}     &   837\\\\\n",
       "\t Food \\& Drink            & (54000000,55000000{]}     &  2911\\\\\n",
       "\t Health \\& Fitness        & (105000000,106000000{]}   &  2707\\\\\n",
       "\t House \\& Home            & (5000000,6000000{]}       &   443\\\\\n",
       "\t Libraries \\& Demo        & (8000000,9000000{]}       &   281\\\\\n",
       "\t Lifestyle               & (615000000,616000000{]}   &  9033\\\\\n",
       "\t Maps \\& Navigation       & (2000000,3000000{]}       &   533\\\\\n",
       "\t Medical                 & (5000000,6000000{]}       &  1011\\\\\n",
       "\t Music                   & (361000000,362000000{]}   &   334\\\\\n",
       "\t Music \\& Audio           & (1067000000,1068000000{]} & 36011\\\\\n",
       "\t News \\& Magazines        & (2961000000,2962000000{]} &  2303\\\\\n",
       "\t Parenting               & (8000000,9000000{]}       &   253\\\\\n",
       "\t Personalization         & (426000000,427000000{]}   &  9257\\\\\n",
       "\t Photography             & (831000000,832000000{]}   &  1894\\\\\n",
       "\t Productivity            & (89000000,90000000{]}     &  1405\\\\\n",
       "\t Puzzle                  & (168000000,169000000{]}   &  2154\\\\\n",
       "\t Racing                  & (437000000,438000000{]}   &   640\\\\\n",
       "\t Role Playing            & (153000000,154000000{]}   &  3375\\\\\n",
       "\t Shopping                & (581000000,582000000{]}   &  3122\\\\\n",
       "\t Simulation              & (189000000,190000000{]}   &  3658\\\\\n",
       "\t Social                  & (6782000000,6783000000{]} & 23560\\\\\n",
       "\t Sports                  & (193000000,194000000{]}   &  3433\\\\\n",
       "\t Strategy                & (153000000,154000000{]}   &  1384\\\\\n",
       "\t Tools                   & (1682000000,1683000000{]} &  1951\\\\\n",
       "\t Travel \\& Local          & (24000000,25000000{]}     &  2752\\\\\n",
       "\t Trivia                  & (16000000,17000000{]}     &   607\\\\\n",
       "\t Video Players \\& Editors & (9766000000,9767000000{]} &  1012\\\\\n",
       "\t Weather                 & (27000000,28000000{]}     &   921\\\\\n",
       "\t Word                    & (78000000,79000000{]}     &   356\\\\\n",
       "\\end{tabular}\n"
      ],
      "text/markdown": [
       "\n",
       "A grouped_df: 48 × 3\n",
       "\n",
       "| Category &lt;chr&gt; | installs.bins &lt;fct&gt; | n &lt;int&gt; |\n",
       "|---|---|---|\n",
       "| Action                  | (505000000,506000000]   |  7987 |\n",
       "| Adventure               | (163000000,164000000]   |  5406 |\n",
       "| Arcade                  | (390000000,391000000]   |  3372 |\n",
       "| Art &amp; Design            | (117000000,118000000]   |  1184 |\n",
       "| Auto &amp; Vehicles         | (1976000000,1977000000] |   720 |\n",
       "| Beauty                  | (7000000,8000000]       |   764 |\n",
       "| Board                   | (100000000,101000000]   |  1028 |\n",
       "| Books &amp; Reference       | (3202000000,3203000000] |  7658 |\n",
       "| Business                | (17000000,18000000]     |  6033 |\n",
       "| Card                    | (86000000,87000000]     |  2611 |\n",
       "| Casino                  | (95000000,96000000]     |  4573 |\n",
       "| Casual                  | (176000000,177000000]   |  3777 |\n",
       "| Comics                  | (85000000,86000000]     |   927 |\n",
       "| Communication           | (964000000,965000000]   |  7046 |\n",
       "| Dating                  | (0,1000000]             |   351 |\n",
       "| Education               | (69000000,70000000]     |  6393 |\n",
       "| Educational             | (12000000,13000000]     |   404 |\n",
       "| Entertainment           | (4605000000,4606000000] | 16565 |\n",
       "| Events                  | (3000000,4000000]       |  1438 |\n",
       "| Finance                 | (23000000,24000000]     |   837 |\n",
       "| Food &amp; Drink            | (54000000,55000000]     |  2911 |\n",
       "| Health &amp; Fitness        | (105000000,106000000]   |  2707 |\n",
       "| House &amp; Home            | (5000000,6000000]       |   443 |\n",
       "| Libraries &amp; Demo        | (8000000,9000000]       |   281 |\n",
       "| Lifestyle               | (615000000,616000000]   |  9033 |\n",
       "| Maps &amp; Navigation       | (2000000,3000000]       |   533 |\n",
       "| Medical                 | (5000000,6000000]       |  1011 |\n",
       "| Music                   | (361000000,362000000]   |   334 |\n",
       "| Music &amp; Audio           | (1067000000,1068000000] | 36011 |\n",
       "| News &amp; Magazines        | (2961000000,2962000000] |  2303 |\n",
       "| Parenting               | (8000000,9000000]       |   253 |\n",
       "| Personalization         | (426000000,427000000]   |  9257 |\n",
       "| Photography             | (831000000,832000000]   |  1894 |\n",
       "| Productivity            | (89000000,90000000]     |  1405 |\n",
       "| Puzzle                  | (168000000,169000000]   |  2154 |\n",
       "| Racing                  | (437000000,438000000]   |   640 |\n",
       "| Role Playing            | (153000000,154000000]   |  3375 |\n",
       "| Shopping                | (581000000,582000000]   |  3122 |\n",
       "| Simulation              | (189000000,190000000]   |  3658 |\n",
       "| Social                  | (6782000000,6783000000] | 23560 |\n",
       "| Sports                  | (193000000,194000000]   |  3433 |\n",
       "| Strategy                | (153000000,154000000]   |  1384 |\n",
       "| Tools                   | (1682000000,1683000000] |  1951 |\n",
       "| Travel &amp; Local          | (24000000,25000000]     |  2752 |\n",
       "| Trivia                  | (16000000,17000000]     |   607 |\n",
       "| Video Players &amp; Editors | (9766000000,9767000000] |  1012 |\n",
       "| Weather                 | (27000000,28000000]     |   921 |\n",
       "| Word                    | (78000000,79000000]     |   356 |\n",
       "\n"
      ],
      "text/plain": [
       "   Category                installs.bins           n    \n",
       "1  Action                  (505000000,506000000]    7987\n",
       "2  Adventure               (163000000,164000000]    5406\n",
       "3  Arcade                  (390000000,391000000]    3372\n",
       "4  Art & Design            (117000000,118000000]    1184\n",
       "5  Auto & Vehicles         (1976000000,1977000000]   720\n",
       "6  Beauty                  (7000000,8000000]         764\n",
       "7  Board                   (100000000,101000000]    1028\n",
       "8  Books & Reference       (3202000000,3203000000]  7658\n",
       "9  Business                (17000000,18000000]      6033\n",
       "10 Card                    (86000000,87000000]      2611\n",
       "11 Casino                  (95000000,96000000]      4573\n",
       "12 Casual                  (176000000,177000000]    3777\n",
       "13 Comics                  (85000000,86000000]       927\n",
       "14 Communication           (964000000,965000000]    7046\n",
       "15 Dating                  (0,1000000]               351\n",
       "16 Education               (69000000,70000000]      6393\n",
       "17 Educational             (12000000,13000000]       404\n",
       "18 Entertainment           (4605000000,4606000000] 16565\n",
       "19 Events                  (3000000,4000000]        1438\n",
       "20 Finance                 (23000000,24000000]       837\n",
       "21 Food & Drink            (54000000,55000000]      2911\n",
       "22 Health & Fitness        (105000000,106000000]    2707\n",
       "23 House & Home            (5000000,6000000]         443\n",
       "24 Libraries & Demo        (8000000,9000000]         281\n",
       "25 Lifestyle               (615000000,616000000]    9033\n",
       "26 Maps & Navigation       (2000000,3000000]         533\n",
       "27 Medical                 (5000000,6000000]        1011\n",
       "28 Music                   (361000000,362000000]     334\n",
       "29 Music & Audio           (1067000000,1068000000] 36011\n",
       "30 News & Magazines        (2961000000,2962000000]  2303\n",
       "31 Parenting               (8000000,9000000]         253\n",
       "32 Personalization         (426000000,427000000]    9257\n",
       "33 Photography             (831000000,832000000]    1894\n",
       "34 Productivity            (89000000,90000000]      1405\n",
       "35 Puzzle                  (168000000,169000000]    2154\n",
       "36 Racing                  (437000000,438000000]     640\n",
       "37 Role Playing            (153000000,154000000]    3375\n",
       "38 Shopping                (581000000,582000000]    3122\n",
       "39 Simulation              (189000000,190000000]    3658\n",
       "40 Social                  (6782000000,6783000000] 23560\n",
       "41 Sports                  (193000000,194000000]    3433\n",
       "42 Strategy                (153000000,154000000]    1384\n",
       "43 Tools                   (1682000000,1683000000]  1951\n",
       "44 Travel & Local          (24000000,25000000]      2752\n",
       "45 Trivia                  (16000000,17000000]       607\n",
       "46 Video Players & Editors (9766000000,9767000000]  1012\n",
       "47 Weather                 (27000000,28000000]       921\n",
       "48 Word                    (78000000,79000000]       356"
      ]
     },
     "metadata": {},
     "output_type": "display_data"
    }
   ],
   "source": [
    "playstore %>%\n",
    "    group_by(Category, installs.bins) %>%\n",
    "    arrange(desc(installs.bins)) %>%\n",
    "    count()"
   ]
  },
  {
   "cell_type": "code",
   "execution_count": 123,
   "metadata": {
    "vscode": {
     "languageId": "r"
    }
   },
   "outputs": [
    {
     "data": {
      "image/png": "[encoded data removed]",
      "text/plain": [
       "plot without title"
      ]
     },
     "metadata": {
      "image/png": {
       "height": 900,
       "width": 1800
      }
     },
     "output_type": "display_data"
    }
   ],
   "source": [
    "options(repr.plot.width=30, repr.plot.height=15)\n",
    "playstore %>%\n",
    "   ggplot(aes(x = installs.bins, fill=installs.bins)) +\n",
    "   geom_bar(position=\"stack\") +\n",
    "   ggtitle(\"Distribution of cars by price\") +\n",
    "   xlab(\"Installs\") + ylab(\"Categories\") "
   ]
  },
  {
   "cell_type": "code",
   "execution_count": 124,
   "metadata": {
    "vscode": {
     "languageId": "r"
    }
   },
   "outputs": [
    {
     "data": {
      "image/png": "[encoded data removed]",
      "text/plain": [
       "plot without title"
      ]
     },
     "metadata": {
      "image/png": {
       "height": 900,
       "width": 1800
      }
     },
     "output_type": "display_data"
    }
   ],
   "source": [
    "playstore %>%\n",
    "   ggplot(aes(x = Category,install.max, fill=installs.bins)) +\n",
    "   geom_boxplot() +\n",
    "   ggtitle(\"Distribution of price by make\") +\n",
    "   coord_flip()"
   ]
  }
 ],
 "metadata": {
  "kernelspec": {
   "display_name": "R",
   "language": "R",
   "name": "ir"
  },
  "language_info": {
   "codemirror_mode": "r",
   "file_extension": ".r",
   "mimetype": "text/x-r-source",
   "name": "R",
   "pygments_lexer": "r",
   "version": "4.3.0"
  },
  "orig_nbformat": 4
 },
 "nbformat": 4,
 "nbformat_minor": 2
}
